{
 "cells": [
  {
   "cell_type": "markdown",
   "metadata": {
    "slideshow": {
     "slide_type": "slide"
    }
   },
   "source": [
    "# Part II - Ford GoBike System Dataset Exploration\n",
    "## by EYAMBE MPOULI Boris Claude"
   ]
  },
  {
   "cell_type": "markdown",
   "metadata": {
    "slideshow": {
     "slide_type": "slide"
    }
   },
   "source": [
    "### Investigation Overview\n",
    "\n",
    "We were interested to know about the trends in GoBike custmers behaviour to be able to improve the business. So we mainly focused on what are the features who impacted the most trips taken in terms of duration, time period of day, day of the week, and members characteristics such as gender, type, and age?\n",
    "\n",
    "At the end of performing all these exploration steps, we found a lot of useful information that can open a lot of future opportunities to improve and promote the business, and some of the key insights:\n",
    "\n",
    "- Members’ bike trips usually take from 4 minutes to 10 minutes, and it’s rare they take more than 30 minutes.\n",
    "\n",
    "- High percentage of GoBike members 90.09% don't use GoBike share for their entire trip, while only 9.91% are using it for their entire trip.\n",
    "\n",
    "- On Tuesday highest number of users go on a bike trip in the morning while on Thursday they slightly prefer going at night, while Sunday and Saturday have the least number of trips, users on those days prefer to go on a trip in the afternoon.\n",
    "\n",
    "- On average Weekends (Sunday and Saturday) have longer trips compared to other days, and that is probably because it’s the weekend and people have more free time.\n",
    "\n",
    "\n",
    "\n",
    "## Dataset Overview\n",
    "\n",
    "- This dataset is taken from Ford GoBike a  public bicycle sharing system in California, the data contained information about GoBike members and all trips that were taken by them in February 2019."
   ]
  },
  {
   "cell_type": "code",
   "execution_count": 1,
   "metadata": {
    "slideshow": {
     "slide_type": "skip"
    }
   },
   "outputs": [],
   "source": [
    "# import all packages and set plots to be embedded inline\n",
    "import numpy as np\n",
    "import pandas as pd\n",
    "import matplotlib.pyplot as plt\n",
    "import seaborn as sns\n",
    "\n",
    "%matplotlib inline\n",
    "\n",
    "# suppress warnings from final output\n",
    "import warnings\n",
    "warnings.simplefilter(\"ignore\")"
   ]
  },
  {
   "cell_type": "code",
   "execution_count": 2,
   "metadata": {
    "slideshow": {
     "slide_type": "skip"
    }
   },
   "outputs": [
    {
     "data": {
      "text/html": [
       "<div>\n",
       "<style scoped>\n",
       "    .dataframe tbody tr th:only-of-type {\n",
       "        vertical-align: middle;\n",
       "    }\n",
       "\n",
       "    .dataframe tbody tr th {\n",
       "        vertical-align: top;\n",
       "    }\n",
       "\n",
       "    .dataframe thead th {\n",
       "        text-align: right;\n",
       "    }\n",
       "</style>\n",
       "<table border=\"1\" class=\"dataframe\">\n",
       "  <thead>\n",
       "    <tr style=\"text-align: right;\">\n",
       "      <th></th>\n",
       "      <th>start_station_name</th>\n",
       "      <th>end_station_name</th>\n",
       "      <th>user_type</th>\n",
       "      <th>member_gender</th>\n",
       "      <th>bike_share_for_all_trip</th>\n",
       "      <th>duration_min</th>\n",
       "      <th>trip_start_time</th>\n",
       "      <th>trip_start_day</th>\n",
       "      <th>trip_start_period</th>\n",
       "      <th>trip_end_time</th>\n",
       "      <th>trip_end_day</th>\n",
       "      <th>trip_end_period</th>\n",
       "      <th>member_age</th>\n",
       "    </tr>\n",
       "  </thead>\n",
       "  <tbody>\n",
       "    <tr>\n",
       "      <th>0</th>\n",
       "      <td>Montgomery St BART Station (Market St at 2nd St)</td>\n",
       "      <td>Commercial St at Montgomery St</td>\n",
       "      <td>Customer</td>\n",
       "      <td>Male</td>\n",
       "      <td>No</td>\n",
       "      <td>869</td>\n",
       "      <td>17</td>\n",
       "      <td>Thursday</td>\n",
       "      <td>Afternoon</td>\n",
       "      <td>8</td>\n",
       "      <td>Friday</td>\n",
       "      <td>Morning</td>\n",
       "      <td>35</td>\n",
       "    </tr>\n",
       "    <tr>\n",
       "      <th>1</th>\n",
       "      <td>Market St at Dolores St</td>\n",
       "      <td>Powell St BART Station (Market St at 4th St)</td>\n",
       "      <td>Customer</td>\n",
       "      <td>Male</td>\n",
       "      <td>No</td>\n",
       "      <td>1030</td>\n",
       "      <td>12</td>\n",
       "      <td>Thursday</td>\n",
       "      <td>Afternoon</td>\n",
       "      <td>5</td>\n",
       "      <td>Friday</td>\n",
       "      <td>Morning</td>\n",
       "      <td>47</td>\n",
       "    </tr>\n",
       "    <tr>\n",
       "      <th>2</th>\n",
       "      <td>Grove St at Masonic Ave</td>\n",
       "      <td>Central Ave at Fell St</td>\n",
       "      <td>Subscriber</td>\n",
       "      <td>Other</td>\n",
       "      <td>No</td>\n",
       "      <td>608</td>\n",
       "      <td>17</td>\n",
       "      <td>Thursday</td>\n",
       "      <td>Afternoon</td>\n",
       "      <td>4</td>\n",
       "      <td>Friday</td>\n",
       "      <td>Morning</td>\n",
       "      <td>30</td>\n",
       "    </tr>\n",
       "    <tr>\n",
       "      <th>3</th>\n",
       "      <td>Frank H Ogawa Plaza</td>\n",
       "      <td>10th Ave at E 15th St</td>\n",
       "      <td>Subscriber</td>\n",
       "      <td>Male</td>\n",
       "      <td>Yes</td>\n",
       "      <td>26</td>\n",
       "      <td>23</td>\n",
       "      <td>Thursday</td>\n",
       "      <td>Night</td>\n",
       "      <td>0</td>\n",
       "      <td>Friday</td>\n",
       "      <td>Morning</td>\n",
       "      <td>45</td>\n",
       "    </tr>\n",
       "    <tr>\n",
       "      <th>4</th>\n",
       "      <td>4th St at Mission Bay Blvd S</td>\n",
       "      <td>Broadway at Kearny</td>\n",
       "      <td>Subscriber</td>\n",
       "      <td>Male</td>\n",
       "      <td>No</td>\n",
       "      <td>29</td>\n",
       "      <td>23</td>\n",
       "      <td>Thursday</td>\n",
       "      <td>Night</td>\n",
       "      <td>0</td>\n",
       "      <td>Friday</td>\n",
       "      <td>Morning</td>\n",
       "      <td>60</td>\n",
       "    </tr>\n",
       "  </tbody>\n",
       "</table>\n",
       "</div>"
      ],
      "text/plain": [
       "                                 start_station_name  \\\n",
       "0  Montgomery St BART Station (Market St at 2nd St)   \n",
       "1                           Market St at Dolores St   \n",
       "2                           Grove St at Masonic Ave   \n",
       "3                               Frank H Ogawa Plaza   \n",
       "4                      4th St at Mission Bay Blvd S   \n",
       "\n",
       "                               end_station_name   user_type member_gender  \\\n",
       "0                Commercial St at Montgomery St    Customer          Male   \n",
       "1  Powell St BART Station (Market St at 4th St)    Customer          Male   \n",
       "2                        Central Ave at Fell St  Subscriber         Other   \n",
       "3                         10th Ave at E 15th St  Subscriber          Male   \n",
       "4                            Broadway at Kearny  Subscriber          Male   \n",
       "\n",
       "  bike_share_for_all_trip  duration_min  trip_start_time trip_start_day  \\\n",
       "0                      No           869               17       Thursday   \n",
       "1                      No          1030               12       Thursday   \n",
       "2                      No           608               17       Thursday   \n",
       "3                     Yes            26               23       Thursday   \n",
       "4                      No            29               23       Thursday   \n",
       "\n",
       "  trip_start_period  trip_end_time trip_end_day trip_end_period  member_age  \n",
       "0         Afternoon              8       Friday         Morning          35  \n",
       "1         Afternoon              5       Friday         Morning          47  \n",
       "2         Afternoon              4       Friday         Morning          30  \n",
       "3             Night              0       Friday         Morning          45  \n",
       "4             Night              0       Friday         Morning          60  "
      ]
     },
     "execution_count": 2,
     "metadata": {},
     "output_type": "execute_result"
    }
   ],
   "source": [
    "# load in the dataset into a pandas dataframe\n",
    "df_clean = pd.read_csv('fordgobike_clean.csv')\n",
    "df_clean.head()"
   ]
  },
  {
   "cell_type": "markdown",
   "metadata": {
    "slideshow": {
     "slide_type": "slide"
    }
   },
   "source": [
    "## Trip Duration\n",
    "\n",
    "- Members’ bike trips usually take from 4 minutes to 10 minutes, and it’s rare they take more than 30 minutes."
   ]
  },
  {
   "cell_type": "code",
   "execution_count": 3,
   "metadata": {
    "slideshow": {
     "slide_type": "subslide"
    }
   },
   "outputs": [
    {
     "data": {
      "image/png": "[encoded data removed]",
      "text/plain": [
       "<Figure size 1008x648 with 1 Axes>"
      ]
     },
     "metadata": {
      "needs_background": "light"
     },
     "output_type": "display_data"
    }
   ],
   "source": [
    "plt.figure(figsize=[14,9])\n",
    "plt.xlabel('Trip Duration (Minutes)')\n",
    "plt.ylabel('Count')\n",
    "plt.title(\"Users Trip Duration Overview\")\n",
    "bins = np.arange(df_clean['duration_min'].min(), df_clean['duration_min'].quantile(0.99)+5, 1)\n",
    "plt.xticks(np.arange(0, 60, 5), np.arange(0, 60, 5));\n",
    "plt.hist(data = df_clean, x = 'duration_min', bins=bins, color = sns.color_palette('Blues')[4]);"
   ]
  },
  {
   "cell_type": "markdown",
   "metadata": {
    "collapsed": true,
    "slideshow": {
     "slide_type": "slide"
    }
   },
   "source": [
    "## Bike Share For All Trip\n",
    "\n",
    "- A high percentage of GoBike members <b>90.09%</b> don't use GoBike share for their entire trip, while only <b>9.91%</b> are using it for their entire trip."
   ]
  },
  {
   "cell_type": "code",
   "execution_count": 4,
   "metadata": {
    "slideshow": {
     "slide_type": "subslide"
    }
   },
   "outputs": [
    {
     "data": {
      "image/png": "[encoded data removed]",
      "text/plain": [
       "<Figure size 1008x648 with 1 Axes>"
      ]
     },
     "metadata": {},
     "output_type": "display_data"
    }
   ],
   "source": [
    "df_clean.groupby(['bike_share_for_all_trip']).count().plot(\n",
    "    kind='pie', labels=['No', 'Yes'], y='trip_end_time',\n",
    "    title=\"Bike Share For All Trip (%)\", autopct='%.2f%%', \n",
    "    colors = [sns.color_palette('Blues')[4], sns.color_palette('Blues')[2]], \n",
    "    label=\"\", figsize=(14,9));"
   ]
  },
  {
   "cell_type": "markdown",
   "metadata": {
    "slideshow": {
     "slide_type": "slide"
    }
   },
   "source": [
    "## Period of The Day and Day of the Week\n",
    "\n",
    "- Tuesday and Thursday are the peaked days\n",
    "- Afternoon is the peakest period \n",
    "- Sunday and Saturday have the least number of trips."
   ]
  },
  {
   "cell_type": "code",
   "execution_count": 5,
   "metadata": {
    "slideshow": {
     "slide_type": "subslide"
    }
   },
   "outputs": [
    {
     "data": {
      "image/png": "[encoded data removed]",
      "text/plain": [
       "<Figure size 1008x648 with 1 Axes>"
      ]
     },
     "metadata": {
      "needs_background": "light"
     },
     "output_type": "display_data"
    }
   ],
   "source": [
    "plt.figure(figsize=[14,9])\n",
    "sns.countplot(data=df_clean, x='trip_start_day', hue='trip_start_period',  palette='Blues', \n",
    "              order=['Monday', 'Tuesday', 'Wednesday', 'Thursday', 'Friday', 'Saturday', 'Sunday'])\n",
    "plt.xlabel('Trip Day of the Week')\n",
    "plt.ylabel('Count')\n",
    "plt.title(\"Users Trip Periods based on Day of the Week\");"
   ]
  },
  {
   "cell_type": "markdown",
   "metadata": {
    "slideshow": {
     "slide_type": "slide"
    }
   },
   "source": [
    "## Conclusion\n",
    "\n",
    "> At the end of performing all these exploration steps, we found a lot of useful informations that can open a lot of interesting future opportunities to improve and promote the business.\n",
    "\n",
    "> Since our work was just focused on the data for one month, it could be a good idea to enlarge his scope by working with data for 3, 6 months or even a year or more.\n",
    "\n",
    "> And to deepen our work we could try to build a Machine Learning or Deep Learning model to predict or recognize patterns from our data.\n",
    "\n",
    "####  Thanks for your Time!!!"
   ]
  },
  {
   "cell_type": "code",
   "execution_count": null,
   "metadata": {
    "slideshow": {
     "slide_type": "skip"
    }
   },
   "outputs": [],
   "source": [
    "!jupyter nbconvert goBike_exploration_part_II.ipynb --to slides --post serve --no-input --no-prompt"
   ]
  },
  {
   "cell_type": "code",
   "execution_count": null,
   "metadata": {},
   "outputs": [],
   "source": []
  }
 ],
 "metadata": {
  "celltoolbar": "Slideshow",
  "kernelspec": {
   "display_name": "Python 3",
   "language": "python",
   "name": "python3"
  },
  "language_info": {
   "codemirror_mode": {
    "name": "ipython",
    "version": 3
   },
   "file_extension": ".py",
   "mimetype": "text/x-python",
   "name": "python",
   "nbconvert_exporter": "python",
   "pygments_lexer": "ipython3",
   "version": "3.6.13"
  }
 },
 "nbformat": 4,
 "nbformat_minor": 2
}
