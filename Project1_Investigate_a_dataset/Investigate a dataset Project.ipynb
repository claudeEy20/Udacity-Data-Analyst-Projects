{
 "cells": [
  {
   "cell_type": "markdown",
   "id": "faeaadd0",
   "metadata": {},
   "source": [
    "# Project: Investigate The TMDB Movies Dataset\n",
    "\n",
    "## Table of Contents\n",
    "<ul>\n",
    "<li><a href=\"#intro\">Introduction</a></li>\n",
    "<li><a href=\"#wrangling\">Data Wrangling</a></li>\n",
    "<li><a href=\"#eda\">Exploratory Data Analysis</a></li>\n",
    "<li><a href=\"#conclusions\">Conclusions</a></li>\n",
    "</ul>"
   ]
  },
  {
   "cell_type": "markdown",
   "id": "4d5a2587",
   "metadata": {},
   "source": [
    "<a id='intro'></a>\n",
    "\n",
    "## Introduction\n",
    "\n",
    "#### For this Work i will be working with <b>The Movie Data (TMDb)</b>, This data set contains information about 10,000+ movies collected from The Movie Database (TMDb) from <a href=\"https://www.google.com/url?q=https://www.kaggle.com/tmdb/tmdb-movie-metadata&sa=D&ust=1532469042115000\" > Kaggle </a> including user ratings and revenue.\n",
    "\n",
    "#### In this part i will import the necessary packages i will use to investigate the data set"
   ]
  },
  {
   "cell_type": "code",
   "execution_count": 1,
   "id": "330efb8c",
   "metadata": {},
   "outputs": [],
   "source": [
    "#importing the packages that we will use\n",
    "\n",
    "import pandas as pd\n",
    "import numpy as np\n",
    "import matplotlib.pyplot as plt\n",
    "%matplotlib inline\n"
   ]
  },
  {
   "cell_type": "markdown",
   "id": "e5bc1840",
   "metadata": {},
   "source": [
    "<a id='wrangling'></a>\n",
    "\n",
    "## Data Wrangling\n",
    "\n",
    "In this part i will have a first look in my datas, check for cleanliness and clean my dataset for further analysis. \n",
    "\n",
    "### General Properties"
   ]
  },
  {
   "cell_type": "code",
   "execution_count": 2,
   "id": "181cf8ad",
   "metadata": {},
   "outputs": [],
   "source": [
    "#Loading the data in the \"df\" dataframe and visualising some entries\n",
    "\n",
    "df = pd.read_csv(\"tmdb-movies.csv\")"
   ]
  },
  {
   "cell_type": "code",
   "execution_count": 3,
   "id": "c8c96a24",
   "metadata": {},
   "outputs": [],
   "source": [
    "# we define a function that will help us make a summary of the dataframe\n",
    "\n",
    "def summary(dataframe):\n",
    "    \n",
    "    #Here we display an overview of the data set\n",
    "    print(\"Overview of the dataframe :\")\n",
    "    display(dataframe.head())\n",
    "    \n",
    "    #Here we display the dimensions of our datas\n",
    "    print(\"\\n Dimensions : \\n\")\n",
    "    display(dataframe.shape)\n",
    "    \n",
    "    #Here we check missing values\n",
    "    print(\"\\n Missing values resume : \\n\")\n",
    "    display(dataframe.isna().sum())\n",
    "    \n",
    "    #We check for duplicated rows\n",
    "    print(\"\\n Number of duplicated rows: \\n\")\n",
    "    display(dataframe.duplicated().value_counts())\n",
    "    \n",
    "    #Resume of columns and their data type \n",
    "    print(\"\\n Columns informations:  \\n\")\n",
    "    display(dataframe.info())\n",
    "    \n",
    "    #Some statistics from our data set\n",
    "    print(\"\\n Some Stats : \\n\")\n",
    "    display(dataframe.describe())\n",
    "    \n",
    "    #checking uniques values for each column in the dataset \n",
    "    print(\"\\n Unique values for each Column : \\n\")\n",
    "    display(dataframe.nunique())\n",
    "    "
   ]
  },
  {
   "cell_type": "code",
   "execution_count": 4,
   "id": "9ac560b8",
   "metadata": {},
   "outputs": [
    {
     "name": "stdout",
     "output_type": "stream",
     "text": [
      "Overview of the dataframe :\n"
     ]
    },
    {
     "data": {
      "text/html": [
       "<div>\n",
       "<style scoped>\n",
       "    .dataframe tbody tr th:only-of-type {\n",
       "        vertical-align: middle;\n",
       "    }\n",
       "\n",
       "    .dataframe tbody tr th {\n",
       "        vertical-align: top;\n",
       "    }\n",
       "\n",
       "    .dataframe thead th {\n",
       "        text-align: right;\n",
       "    }\n",
       "</style>\n",
       "<table border=\"1\" class=\"dataframe\">\n",
       "  <thead>\n",
       "    <tr style=\"text-align: right;\">\n",
       "      <th></th>\n",
       "      <th>id</th>\n",
       "      <th>imdb_id</th>\n",
       "      <th>popularity</th>\n",
       "      <th>budget</th>\n",
       "      <th>revenue</th>\n",
       "      <th>original_title</th>\n",
       "      <th>cast</th>\n",
       "      <th>homepage</th>\n",
       "      <th>director</th>\n",
       "      <th>tagline</th>\n",
       "      <th>...</th>\n",
       "      <th>overview</th>\n",
       "      <th>runtime</th>\n",
       "      <th>genres</th>\n",
       "      <th>production_companies</th>\n",
       "      <th>release_date</th>\n",
       "      <th>vote_count</th>\n",
       "      <th>vote_average</th>\n",
       "      <th>release_year</th>\n",
       "      <th>budget_adj</th>\n",
       "      <th>revenue_adj</th>\n",
       "    </tr>\n",
       "  </thead>\n",
       "  <tbody>\n",
       "    <tr>\n",
       "      <th>0</th>\n",
       "      <td>135397</td>\n",
       "      <td>tt0369610</td>\n",
       "      <td>32.985763</td>\n",
       "      <td>150000000</td>\n",
       "      <td>1513528810</td>\n",
       "      <td>Jurassic World</td>\n",
       "      <td>Chris Pratt|Bryce Dallas Howard|Irrfan Khan|Vi...</td>\n",
       "      <td>http://www.jurassicworld.com/</td>\n",
       "      <td>Colin Trevorrow</td>\n",
       "      <td>The park is open.</td>\n",
       "      <td>...</td>\n",
       "      <td>Twenty-two years after the events of Jurassic ...</td>\n",
       "      <td>124</td>\n",
       "      <td>Action|Adventure|Science Fiction|Thriller</td>\n",
       "      <td>Universal Studios|Amblin Entertainment|Legenda...</td>\n",
       "      <td>6/9/15</td>\n",
       "      <td>5562</td>\n",
       "      <td>6.5</td>\n",
       "      <td>2015</td>\n",
       "      <td>1.379999e+08</td>\n",
       "      <td>1.392446e+09</td>\n",
       "    </tr>\n",
       "    <tr>\n",
       "      <th>1</th>\n",
       "      <td>76341</td>\n",
       "      <td>tt1392190</td>\n",
       "      <td>28.419936</td>\n",
       "      <td>150000000</td>\n",
       "      <td>378436354</td>\n",
       "      <td>Mad Max: Fury Road</td>\n",
       "      <td>Tom Hardy|Charlize Theron|Hugh Keays-Byrne|Nic...</td>\n",
       "      <td>http://www.madmaxmovie.com/</td>\n",
       "      <td>George Miller</td>\n",
       "      <td>What a Lovely Day.</td>\n",
       "      <td>...</td>\n",
       "      <td>An apocalyptic story set in the furthest reach...</td>\n",
       "      <td>120</td>\n",
       "      <td>Action|Adventure|Science Fiction|Thriller</td>\n",
       "      <td>Village Roadshow Pictures|Kennedy Miller Produ...</td>\n",
       "      <td>5/13/15</td>\n",
       "      <td>6185</td>\n",
       "      <td>7.1</td>\n",
       "      <td>2015</td>\n",
       "      <td>1.379999e+08</td>\n",
       "      <td>3.481613e+08</td>\n",
       "    </tr>\n",
       "    <tr>\n",
       "      <th>2</th>\n",
       "      <td>262500</td>\n",
       "      <td>tt2908446</td>\n",
       "      <td>13.112507</td>\n",
       "      <td>110000000</td>\n",
       "      <td>295238201</td>\n",
       "      <td>Insurgent</td>\n",
       "      <td>Shailene Woodley|Theo James|Kate Winslet|Ansel...</td>\n",
       "      <td>http://www.thedivergentseries.movie/#insurgent</td>\n",
       "      <td>Robert Schwentke</td>\n",
       "      <td>One Choice Can Destroy You</td>\n",
       "      <td>...</td>\n",
       "      <td>Beatrice Prior must confront her inner demons ...</td>\n",
       "      <td>119</td>\n",
       "      <td>Adventure|Science Fiction|Thriller</td>\n",
       "      <td>Summit Entertainment|Mandeville Films|Red Wago...</td>\n",
       "      <td>3/18/15</td>\n",
       "      <td>2480</td>\n",
       "      <td>6.3</td>\n",
       "      <td>2015</td>\n",
       "      <td>1.012000e+08</td>\n",
       "      <td>2.716190e+08</td>\n",
       "    </tr>\n",
       "    <tr>\n",
       "      <th>3</th>\n",
       "      <td>140607</td>\n",
       "      <td>tt2488496</td>\n",
       "      <td>11.173104</td>\n",
       "      <td>200000000</td>\n",
       "      <td>2068178225</td>\n",
       "      <td>Star Wars: The Force Awakens</td>\n",
       "      <td>Harrison Ford|Mark Hamill|Carrie Fisher|Adam D...</td>\n",
       "      <td>http://www.starwars.com/films/star-wars-episod...</td>\n",
       "      <td>J.J. Abrams</td>\n",
       "      <td>Every generation has a story.</td>\n",
       "      <td>...</td>\n",
       "      <td>Thirty years after defeating the Galactic Empi...</td>\n",
       "      <td>136</td>\n",
       "      <td>Action|Adventure|Science Fiction|Fantasy</td>\n",
       "      <td>Lucasfilm|Truenorth Productions|Bad Robot</td>\n",
       "      <td>12/15/15</td>\n",
       "      <td>5292</td>\n",
       "      <td>7.5</td>\n",
       "      <td>2015</td>\n",
       "      <td>1.839999e+08</td>\n",
       "      <td>1.902723e+09</td>\n",
       "    </tr>\n",
       "    <tr>\n",
       "      <th>4</th>\n",
       "      <td>168259</td>\n",
       "      <td>tt2820852</td>\n",
       "      <td>9.335014</td>\n",
       "      <td>190000000</td>\n",
       "      <td>1506249360</td>\n",
       "      <td>Furious 7</td>\n",
       "      <td>Vin Diesel|Paul Walker|Jason Statham|Michelle ...</td>\n",
       "      <td>http://www.furious7.com/</td>\n",
       "      <td>James Wan</td>\n",
       "      <td>Vengeance Hits Home</td>\n",
       "      <td>...</td>\n",
       "      <td>Deckard Shaw seeks revenge against Dominic Tor...</td>\n",
       "      <td>137</td>\n",
       "      <td>Action|Crime|Thriller</td>\n",
       "      <td>Universal Pictures|Original Film|Media Rights ...</td>\n",
       "      <td>4/1/15</td>\n",
       "      <td>2947</td>\n",
       "      <td>7.3</td>\n",
       "      <td>2015</td>\n",
       "      <td>1.747999e+08</td>\n",
       "      <td>1.385749e+09</td>\n",
       "    </tr>\n",
       "  </tbody>\n",
       "</table>\n",
       "<p>5 rows × 21 columns</p>\n",
       "</div>"
      ],
      "text/plain": [
       "       id    imdb_id  popularity     budget     revenue  \\\n",
       "0  135397  tt0369610   32.985763  150000000  1513528810   \n",
       "1   76341  tt1392190   28.419936  150000000   378436354   \n",
       "2  262500  tt2908446   13.112507  110000000   295238201   \n",
       "3  140607  tt2488496   11.173104  200000000  2068178225   \n",
       "4  168259  tt2820852    9.335014  190000000  1506249360   \n",
       "\n",
       "                 original_title  \\\n",
       "0                Jurassic World   \n",
       "1            Mad Max: Fury Road   \n",
       "2                     Insurgent   \n",
       "3  Star Wars: The Force Awakens   \n",
       "4                     Furious 7   \n",
       "\n",
       "                                                cast  \\\n",
       "0  Chris Pratt|Bryce Dallas Howard|Irrfan Khan|Vi...   \n",
       "1  Tom Hardy|Charlize Theron|Hugh Keays-Byrne|Nic...   \n",
       "2  Shailene Woodley|Theo James|Kate Winslet|Ansel...   \n",
       "3  Harrison Ford|Mark Hamill|Carrie Fisher|Adam D...   \n",
       "4  Vin Diesel|Paul Walker|Jason Statham|Michelle ...   \n",
       "\n",
       "                                            homepage          director  \\\n",
       "0                      http://www.jurassicworld.com/   Colin Trevorrow   \n",
       "1                        http://www.madmaxmovie.com/     George Miller   \n",
       "2     http://www.thedivergentseries.movie/#insurgent  Robert Schwentke   \n",
       "3  http://www.starwars.com/films/star-wars-episod...       J.J. Abrams   \n",
       "4                           http://www.furious7.com/         James Wan   \n",
       "\n",
       "                         tagline  ...  \\\n",
       "0              The park is open.  ...   \n",
       "1             What a Lovely Day.  ...   \n",
       "2     One Choice Can Destroy You  ...   \n",
       "3  Every generation has a story.  ...   \n",
       "4            Vengeance Hits Home  ...   \n",
       "\n",
       "                                            overview runtime  \\\n",
       "0  Twenty-two years after the events of Jurassic ...     124   \n",
       "1  An apocalyptic story set in the furthest reach...     120   \n",
       "2  Beatrice Prior must confront her inner demons ...     119   \n",
       "3  Thirty years after defeating the Galactic Empi...     136   \n",
       "4  Deckard Shaw seeks revenge against Dominic Tor...     137   \n",
       "\n",
       "                                      genres  \\\n",
       "0  Action|Adventure|Science Fiction|Thriller   \n",
       "1  Action|Adventure|Science Fiction|Thriller   \n",
       "2         Adventure|Science Fiction|Thriller   \n",
       "3   Action|Adventure|Science Fiction|Fantasy   \n",
       "4                      Action|Crime|Thriller   \n",
       "\n",
       "                                production_companies release_date vote_count  \\\n",
       "0  Universal Studios|Amblin Entertainment|Legenda...       6/9/15       5562   \n",
       "1  Village Roadshow Pictures|Kennedy Miller Produ...      5/13/15       6185   \n",
       "2  Summit Entertainment|Mandeville Films|Red Wago...      3/18/15       2480   \n",
       "3          Lucasfilm|Truenorth Productions|Bad Robot     12/15/15       5292   \n",
       "4  Universal Pictures|Original Film|Media Rights ...       4/1/15       2947   \n",
       "\n",
       "   vote_average  release_year    budget_adj   revenue_adj  \n",
       "0           6.5          2015  1.379999e+08  1.392446e+09  \n",
       "1           7.1          2015  1.379999e+08  3.481613e+08  \n",
       "2           6.3          2015  1.012000e+08  2.716190e+08  \n",
       "3           7.5          2015  1.839999e+08  1.902723e+09  \n",
       "4           7.3          2015  1.747999e+08  1.385749e+09  \n",
       "\n",
       "[5 rows x 21 columns]"
      ]
     },
     "metadata": {},
     "output_type": "display_data"
    },
    {
     "name": "stdout",
     "output_type": "stream",
     "text": [
      "\n",
      " Dimensions : \n",
      "\n"
     ]
    },
    {
     "data": {
      "text/plain": [
       "(10866, 21)"
      ]
     },
     "metadata": {},
     "output_type": "display_data"
    },
    {
     "name": "stdout",
     "output_type": "stream",
     "text": [
      "\n",
      " Missing values resume : \n",
      "\n"
     ]
    },
    {
     "data": {
      "text/plain": [
       "id                         0\n",
       "imdb_id                   10\n",
       "popularity                 0\n",
       "budget                     0\n",
       "revenue                    0\n",
       "original_title             0\n",
       "cast                      76\n",
       "homepage                7930\n",
       "director                  44\n",
       "tagline                 2824\n",
       "keywords                1493\n",
       "overview                   4\n",
       "runtime                    0\n",
       "genres                    23\n",
       "production_companies    1030\n",
       "release_date               0\n",
       "vote_count                 0\n",
       "vote_average               0\n",
       "release_year               0\n",
       "budget_adj                 0\n",
       "revenue_adj                0\n",
       "dtype: int64"
      ]
     },
     "metadata": {},
     "output_type": "display_data"
    },
    {
     "name": "stdout",
     "output_type": "stream",
     "text": [
      "\n",
      " Number of duplicated rows: \n",
      "\n"
     ]
    },
    {
     "data": {
      "text/plain": [
       "False    10865\n",
       "True         1\n",
       "dtype: int64"
      ]
     },
     "metadata": {},
     "output_type": "display_data"
    },
    {
     "name": "stdout",
     "output_type": "stream",
     "text": [
      "\n",
      " Columns informations:  \n",
      "\n",
      "<class 'pandas.core.frame.DataFrame'>\n",
      "RangeIndex: 10866 entries, 0 to 10865\n",
      "Data columns (total 21 columns):\n",
      " #   Column                Non-Null Count  Dtype  \n",
      "---  ------                --------------  -----  \n",
      " 0   id                    10866 non-null  int64  \n",
      " 1   imdb_id               10856 non-null  object \n",
      " 2   popularity            10866 non-null  float64\n",
      " 3   budget                10866 non-null  int64  \n",
      " 4   revenue               10866 non-null  int64  \n",
      " 5   original_title        10866 non-null  object \n",
      " 6   cast                  10790 non-null  object \n",
      " 7   homepage              2936 non-null   object \n",
      " 8   director              10822 non-null  object \n",
      " 9   tagline               8042 non-null   object \n",
      " 10  keywords              9373 non-null   object \n",
      " 11  overview              10862 non-null  object \n",
      " 12  runtime               10866 non-null  int64  \n",
      " 13  genres                10843 non-null  object \n",
      " 14  production_companies  9836 non-null   object \n",
      " 15  release_date          10866 non-null  object \n",
      " 16  vote_count            10866 non-null  int64  \n",
      " 17  vote_average          10866 non-null  float64\n",
      " 18  release_year          10866 non-null  int64  \n",
      " 19  budget_adj            10866 non-null  float64\n",
      " 20  revenue_adj           10866 non-null  float64\n",
      "dtypes: float64(4), int64(6), object(11)\n",
      "memory usage: 1.7+ MB\n"
     ]
    },
    {
     "data": {
      "text/plain": [
       "None"
      ]
     },
     "metadata": {},
     "output_type": "display_data"
    },
    {
     "name": "stdout",
     "output_type": "stream",
     "text": [
      "\n",
      " Some Stats : \n",
      "\n"
     ]
    },
    {
     "data": {
      "text/html": [
       "<div>\n",
       "<style scoped>\n",
       "    .dataframe tbody tr th:only-of-type {\n",
       "        vertical-align: middle;\n",
       "    }\n",
       "\n",
       "    .dataframe tbody tr th {\n",
       "        vertical-align: top;\n",
       "    }\n",
       "\n",
       "    .dataframe thead th {\n",
       "        text-align: right;\n",
       "    }\n",
       "</style>\n",
       "<table border=\"1\" class=\"dataframe\">\n",
       "  <thead>\n",
       "    <tr style=\"text-align: right;\">\n",
       "      <th></th>\n",
       "      <th>id</th>\n",
       "      <th>popularity</th>\n",
       "      <th>budget</th>\n",
       "      <th>revenue</th>\n",
       "      <th>runtime</th>\n",
       "      <th>vote_count</th>\n",
       "      <th>vote_average</th>\n",
       "      <th>release_year</th>\n",
       "      <th>budget_adj</th>\n",
       "      <th>revenue_adj</th>\n",
       "    </tr>\n",
       "  </thead>\n",
       "  <tbody>\n",
       "    <tr>\n",
       "      <th>count</th>\n",
       "      <td>10866.000000</td>\n",
       "      <td>10866.000000</td>\n",
       "      <td>1.086600e+04</td>\n",
       "      <td>1.086600e+04</td>\n",
       "      <td>10866.000000</td>\n",
       "      <td>10866.000000</td>\n",
       "      <td>10866.000000</td>\n",
       "      <td>10866.000000</td>\n",
       "      <td>1.086600e+04</td>\n",
       "      <td>1.086600e+04</td>\n",
       "    </tr>\n",
       "    <tr>\n",
       "      <th>mean</th>\n",
       "      <td>66064.177434</td>\n",
       "      <td>0.646441</td>\n",
       "      <td>1.462570e+07</td>\n",
       "      <td>3.982332e+07</td>\n",
       "      <td>102.070863</td>\n",
       "      <td>217.389748</td>\n",
       "      <td>5.974922</td>\n",
       "      <td>2001.322658</td>\n",
       "      <td>1.755104e+07</td>\n",
       "      <td>5.136436e+07</td>\n",
       "    </tr>\n",
       "    <tr>\n",
       "      <th>std</th>\n",
       "      <td>92130.136561</td>\n",
       "      <td>1.000185</td>\n",
       "      <td>3.091321e+07</td>\n",
       "      <td>1.170035e+08</td>\n",
       "      <td>31.381405</td>\n",
       "      <td>575.619058</td>\n",
       "      <td>0.935142</td>\n",
       "      <td>12.812941</td>\n",
       "      <td>3.430616e+07</td>\n",
       "      <td>1.446325e+08</td>\n",
       "    </tr>\n",
       "    <tr>\n",
       "      <th>min</th>\n",
       "      <td>5.000000</td>\n",
       "      <td>0.000065</td>\n",
       "      <td>0.000000e+00</td>\n",
       "      <td>0.000000e+00</td>\n",
       "      <td>0.000000</td>\n",
       "      <td>10.000000</td>\n",
       "      <td>1.500000</td>\n",
       "      <td>1960.000000</td>\n",
       "      <td>0.000000e+00</td>\n",
       "      <td>0.000000e+00</td>\n",
       "    </tr>\n",
       "    <tr>\n",
       "      <th>25%</th>\n",
       "      <td>10596.250000</td>\n",
       "      <td>0.207583</td>\n",
       "      <td>0.000000e+00</td>\n",
       "      <td>0.000000e+00</td>\n",
       "      <td>90.000000</td>\n",
       "      <td>17.000000</td>\n",
       "      <td>5.400000</td>\n",
       "      <td>1995.000000</td>\n",
       "      <td>0.000000e+00</td>\n",
       "      <td>0.000000e+00</td>\n",
       "    </tr>\n",
       "    <tr>\n",
       "      <th>50%</th>\n",
       "      <td>20669.000000</td>\n",
       "      <td>0.383856</td>\n",
       "      <td>0.000000e+00</td>\n",
       "      <td>0.000000e+00</td>\n",
       "      <td>99.000000</td>\n",
       "      <td>38.000000</td>\n",
       "      <td>6.000000</td>\n",
       "      <td>2006.000000</td>\n",
       "      <td>0.000000e+00</td>\n",
       "      <td>0.000000e+00</td>\n",
       "    </tr>\n",
       "    <tr>\n",
       "      <th>75%</th>\n",
       "      <td>75610.000000</td>\n",
       "      <td>0.713817</td>\n",
       "      <td>1.500000e+07</td>\n",
       "      <td>2.400000e+07</td>\n",
       "      <td>111.000000</td>\n",
       "      <td>145.750000</td>\n",
       "      <td>6.600000</td>\n",
       "      <td>2011.000000</td>\n",
       "      <td>2.085325e+07</td>\n",
       "      <td>3.369710e+07</td>\n",
       "    </tr>\n",
       "    <tr>\n",
       "      <th>max</th>\n",
       "      <td>417859.000000</td>\n",
       "      <td>32.985763</td>\n",
       "      <td>4.250000e+08</td>\n",
       "      <td>2.781506e+09</td>\n",
       "      <td>900.000000</td>\n",
       "      <td>9767.000000</td>\n",
       "      <td>9.200000</td>\n",
       "      <td>2015.000000</td>\n",
       "      <td>4.250000e+08</td>\n",
       "      <td>2.827124e+09</td>\n",
       "    </tr>\n",
       "  </tbody>\n",
       "</table>\n",
       "</div>"
      ],
      "text/plain": [
       "                  id    popularity        budget       revenue       runtime  \\\n",
       "count   10866.000000  10866.000000  1.086600e+04  1.086600e+04  10866.000000   \n",
       "mean    66064.177434      0.646441  1.462570e+07  3.982332e+07    102.070863   \n",
       "std     92130.136561      1.000185  3.091321e+07  1.170035e+08     31.381405   \n",
       "min         5.000000      0.000065  0.000000e+00  0.000000e+00      0.000000   \n",
       "25%     10596.250000      0.207583  0.000000e+00  0.000000e+00     90.000000   \n",
       "50%     20669.000000      0.383856  0.000000e+00  0.000000e+00     99.000000   \n",
       "75%     75610.000000      0.713817  1.500000e+07  2.400000e+07    111.000000   \n",
       "max    417859.000000     32.985763  4.250000e+08  2.781506e+09    900.000000   \n",
       "\n",
       "         vote_count  vote_average  release_year    budget_adj   revenue_adj  \n",
       "count  10866.000000  10866.000000  10866.000000  1.086600e+04  1.086600e+04  \n",
       "mean     217.389748      5.974922   2001.322658  1.755104e+07  5.136436e+07  \n",
       "std      575.619058      0.935142     12.812941  3.430616e+07  1.446325e+08  \n",
       "min       10.000000      1.500000   1960.000000  0.000000e+00  0.000000e+00  \n",
       "25%       17.000000      5.400000   1995.000000  0.000000e+00  0.000000e+00  \n",
       "50%       38.000000      6.000000   2006.000000  0.000000e+00  0.000000e+00  \n",
       "75%      145.750000      6.600000   2011.000000  2.085325e+07  3.369710e+07  \n",
       "max     9767.000000      9.200000   2015.000000  4.250000e+08  2.827124e+09  "
      ]
     },
     "metadata": {},
     "output_type": "display_data"
    },
    {
     "name": "stdout",
     "output_type": "stream",
     "text": [
      "\n",
      " Unique values for each Column : \n",
      "\n"
     ]
    },
    {
     "data": {
      "text/plain": [
       "id                      10865\n",
       "imdb_id                 10855\n",
       "popularity              10814\n",
       "budget                    557\n",
       "revenue                  4702\n",
       "original_title          10571\n",
       "cast                    10719\n",
       "homepage                 2896\n",
       "director                 5067\n",
       "tagline                  7997\n",
       "keywords                 8804\n",
       "overview                10847\n",
       "runtime                   247\n",
       "genres                   2039\n",
       "production_companies     7445\n",
       "release_date             5909\n",
       "vote_count               1289\n",
       "vote_average               72\n",
       "release_year               56\n",
       "budget_adj               2614\n",
       "revenue_adj              4840\n",
       "dtype: int64"
      ]
     },
     "metadata": {},
     "output_type": "display_data"
    }
   ],
   "source": [
    "# displaying the summary of our dataframe \n",
    "\n",
    "summary(df);"
   ]
  },
  {
   "cell_type": "markdown",
   "id": "0b26ffe2",
   "metadata": {},
   "source": [
    "### Questions\n",
    "\n",
    "#### 1-  What kinds of properties are associated with movies that have high revenues?\n",
    "\n",
    "#### 2 - How much the production of a high revenue movie cost in 2015?\n",
    "\n",
    "#### 3 - What are the 10 most profitable movies of all times?\n",
    "\n",
    "\n",
    "\n",
    "### Data Cleaning \n",
    "\n",
    "#### To answer those questions there are the steps we fill follow:\n",
    "\n",
    "> **Drop the columns** : \"id, imdb_id, homepage, tagline, keywords, relaese_date\" as they are irrelevants to answer to our questions\n",
    "\n",
    "> **Drop the duplicate row** we have found earlier just to make our investigation more accurate\n",
    "\n",
    "> **Create a new column 'profit'** containing the profits made by each movie **\n",
    "\n",
    "> **Create Visuals** to enforce our analysis\n",
    "\n",
    "> **Communicate our Findings**"
   ]
  },
  {
   "cell_type": "code",
   "execution_count": 5,
   "id": "19dc4be1",
   "metadata": {},
   "outputs": [
    {
     "data": {
      "text/plain": [
       "(10866, 16)"
      ]
     },
     "execution_count": 5,
     "metadata": {},
     "output_type": "execute_result"
    }
   ],
   "source": [
    "# here we drop unnecessary (for our questions) columns\n",
    "\n",
    "df1= df.drop([\"id\", \"imdb_id\",\"homepage\",\"tagline\",\"keywords\"], axis=1)\n",
    "df1.shape"
   ]
  },
  {
   "cell_type": "code",
   "execution_count": 6,
   "id": "c360313c",
   "metadata": {},
   "outputs": [
    {
     "data": {
      "text/plain": [
       "(10866, 17)"
      ]
     },
     "execution_count": 6,
     "metadata": {},
     "output_type": "execute_result"
    }
   ],
   "source": [
    "# Here we create our new column that will contains benefits gains by each movie\n",
    "\n",
    "df1[\"profit\"] = df1.revenue - df1.budget\n",
    "df1.shape"
   ]
  },
  {
   "cell_type": "code",
   "execution_count": 7,
   "id": "f21c2923",
   "metadata": {},
   "outputs": [],
   "source": [
    "# Here we drop the duplicate row we found earlier\n",
    "\n",
    "df1.drop_duplicates(inplace=True)"
   ]
  },
  {
   "cell_type": "code",
   "execution_count": 8,
   "id": "f7d7268a",
   "metadata": {},
   "outputs": [
    {
     "data": {
      "image/png": "[encoded data removed]",
      "text/plain": [
       "<Figure size 432x288 with 12 Axes>"
      ]
     },
     "metadata": {
      "needs_background": "light"
     },
     "output_type": "display_data"
    }
   ],
   "source": [
    "# checking data repartitions for some columns with their histograms\n",
    "\n",
    "df1.hist();"
   ]
  },
  {
   "cell_type": "markdown",
   "id": "a27806fd",
   "metadata": {},
   "source": [
    "<a id='eda'></a>\n",
    "\n",
    "## Exploratory Data Analysis\n",
    "\n",
    "> In this section we will answer to our questions\n",
    "\n",
    "\n",
    "### 1-  What kinds of properties are associated with movies that have high revenues?"
   ]
  },
  {
   "cell_type": "code",
   "execution_count": 9,
   "id": "d635e297",
   "metadata": {
    "scrolled": true
   },
   "outputs": [],
   "source": [
    "# Here we create a new dataframe with movies that have a revenue > to the revenue mean\n",
    "\n",
    "high_revenues= df1[df1.revenue> df1.revenue.mean()]"
   ]
  },
  {
   "cell_type": "code",
   "execution_count": 10,
   "id": "3ae58ae1",
   "metadata": {},
   "outputs": [
    {
     "data": {
      "image/png": "[encoded data removed]",
      "text/plain": [
       "<Figure size 432x288 with 1 Axes>"
      ]
     },
     "metadata": {
      "needs_background": "light"
     },
     "output_type": "display_data"
    }
   ],
   "source": [
    "# Here we have the evolution of the mean of budget and revenue by year\n",
    "\n",
    "high_revenues.groupby([\"release_year\"])[['budget','revenue']].mean().plot(kind=\"line\", ylabel=\"Values\", title=\"Evolution of budgets and Revenues\");"
   ]
  },
  {
   "cell_type": "code",
   "execution_count": 11,
   "id": "915d547a",
   "metadata": {},
   "outputs": [
    {
     "data": {
      "text/html": [
       "<div>\n",
       "<style scoped>\n",
       "    .dataframe tbody tr th:only-of-type {\n",
       "        vertical-align: middle;\n",
       "    }\n",
       "\n",
       "    .dataframe tbody tr th {\n",
       "        vertical-align: top;\n",
       "    }\n",
       "\n",
       "    .dataframe thead th {\n",
       "        text-align: right;\n",
       "    }\n",
       "</style>\n",
       "<table border=\"1\" class=\"dataframe\">\n",
       "  <thead>\n",
       "    <tr style=\"text-align: right;\">\n",
       "      <th></th>\n",
       "      <th>popularity</th>\n",
       "      <th>budget</th>\n",
       "      <th>revenue</th>\n",
       "      <th>runtime</th>\n",
       "      <th>vote_count</th>\n",
       "      <th>vote_average</th>\n",
       "      <th>release_year</th>\n",
       "      <th>budget_adj</th>\n",
       "      <th>revenue_adj</th>\n",
       "      <th>profit</th>\n",
       "    </tr>\n",
       "  </thead>\n",
       "  <tbody>\n",
       "    <tr>\n",
       "      <th>count</th>\n",
       "      <td>2170.000000</td>\n",
       "      <td>2.170000e+03</td>\n",
       "      <td>2.170000e+03</td>\n",
       "      <td>2170.000000</td>\n",
       "      <td>2170.000000</td>\n",
       "      <td>2170.000000</td>\n",
       "      <td>2170.000000</td>\n",
       "      <td>2.170000e+03</td>\n",
       "      <td>2.170000e+03</td>\n",
       "      <td>2.170000e+03</td>\n",
       "    </tr>\n",
       "    <tr>\n",
       "      <th>mean</th>\n",
       "      <td>1.624455</td>\n",
       "      <td>5.201618e+07</td>\n",
       "      <td>1.837673e+08</td>\n",
       "      <td>112.658986</td>\n",
       "      <td>814.637788</td>\n",
       "      <td>6.288940</td>\n",
       "      <td>2001.864977</td>\n",
       "      <td>5.999692e+07</td>\n",
       "      <td>2.319655e+08</td>\n",
       "      <td>1.317511e+08</td>\n",
       "    </tr>\n",
       "    <tr>\n",
       "      <th>std</th>\n",
       "      <td>1.783858</td>\n",
       "      <td>4.860556e+07</td>\n",
       "      <td>2.058310e+08</td>\n",
       "      <td>23.948073</td>\n",
       "      <td>1060.156325</td>\n",
       "      <td>0.734186</td>\n",
       "      <td>10.683412</td>\n",
       "      <td>5.039617e+07</td>\n",
       "      <td>2.506688e+08</td>\n",
       "      <td>1.786279e+08</td>\n",
       "    </tr>\n",
       "    <tr>\n",
       "      <th>min</th>\n",
       "      <td>0.010335</td>\n",
       "      <td>0.000000e+00</td>\n",
       "      <td>3.984634e+07</td>\n",
       "      <td>44.000000</td>\n",
       "      <td>10.000000</td>\n",
       "      <td>3.400000</td>\n",
       "      <td>1960.000000</td>\n",
       "      <td>0.000000e+00</td>\n",
       "      <td>3.693575e+07</td>\n",
       "      <td>-1.657101e+08</td>\n",
       "    </tr>\n",
       "    <tr>\n",
       "      <th>25%</th>\n",
       "      <td>0.737386</td>\n",
       "      <td>1.800000e+07</td>\n",
       "      <td>6.621655e+07</td>\n",
       "      <td>98.000000</td>\n",
       "      <td>192.000000</td>\n",
       "      <td>5.800000</td>\n",
       "      <td>1996.000000</td>\n",
       "      <td>2.403643e+07</td>\n",
       "      <td>8.358739e+07</td>\n",
       "      <td>3.946422e+07</td>\n",
       "    </tr>\n",
       "    <tr>\n",
       "      <th>50%</th>\n",
       "      <td>1.161793</td>\n",
       "      <td>3.800000e+07</td>\n",
       "      <td>1.130136e+08</td>\n",
       "      <td>109.000000</td>\n",
       "      <td>422.000000</td>\n",
       "      <td>6.300000</td>\n",
       "      <td>2004.000000</td>\n",
       "      <td>4.613755e+07</td>\n",
       "      <td>1.457531e+08</td>\n",
       "      <td>7.449099e+07</td>\n",
       "    </tr>\n",
       "    <tr>\n",
       "      <th>75%</th>\n",
       "      <td>1.888625</td>\n",
       "      <td>7.000000e+07</td>\n",
       "      <td>2.139479e+08</td>\n",
       "      <td>123.000000</td>\n",
       "      <td>970.750000</td>\n",
       "      <td>6.800000</td>\n",
       "      <td>2010.000000</td>\n",
       "      <td>8.297469e+07</td>\n",
       "      <td>2.773028e+08</td>\n",
       "      <td>1.530703e+08</td>\n",
       "    </tr>\n",
       "    <tr>\n",
       "      <th>max</th>\n",
       "      <td>32.985763</td>\n",
       "      <td>3.800000e+08</td>\n",
       "      <td>2.781506e+09</td>\n",
       "      <td>705.000000</td>\n",
       "      <td>9767.000000</td>\n",
       "      <td>8.300000</td>\n",
       "      <td>2015.000000</td>\n",
       "      <td>3.683713e+08</td>\n",
       "      <td>2.827124e+09</td>\n",
       "      <td>2.544506e+09</td>\n",
       "    </tr>\n",
       "  </tbody>\n",
       "</table>\n",
       "</div>"
      ],
      "text/plain": [
       "        popularity        budget       revenue      runtime   vote_count  \\\n",
       "count  2170.000000  2.170000e+03  2.170000e+03  2170.000000  2170.000000   \n",
       "mean      1.624455  5.201618e+07  1.837673e+08   112.658986   814.637788   \n",
       "std       1.783858  4.860556e+07  2.058310e+08    23.948073  1060.156325   \n",
       "min       0.010335  0.000000e+00  3.984634e+07    44.000000    10.000000   \n",
       "25%       0.737386  1.800000e+07  6.621655e+07    98.000000   192.000000   \n",
       "50%       1.161793  3.800000e+07  1.130136e+08   109.000000   422.000000   \n",
       "75%       1.888625  7.000000e+07  2.139479e+08   123.000000   970.750000   \n",
       "max      32.985763  3.800000e+08  2.781506e+09   705.000000  9767.000000   \n",
       "\n",
       "       vote_average  release_year    budget_adj   revenue_adj        profit  \n",
       "count   2170.000000   2170.000000  2.170000e+03  2.170000e+03  2.170000e+03  \n",
       "mean       6.288940   2001.864977  5.999692e+07  2.319655e+08  1.317511e+08  \n",
       "std        0.734186     10.683412  5.039617e+07  2.506688e+08  1.786279e+08  \n",
       "min        3.400000   1960.000000  0.000000e+00  3.693575e+07 -1.657101e+08  \n",
       "25%        5.800000   1996.000000  2.403643e+07  8.358739e+07  3.946422e+07  \n",
       "50%        6.300000   2004.000000  4.613755e+07  1.457531e+08  7.449099e+07  \n",
       "75%        6.800000   2010.000000  8.297469e+07  2.773028e+08  1.530703e+08  \n",
       "max        8.300000   2015.000000  3.683713e+08  2.827124e+09  2.544506e+09  "
      ]
     },
     "execution_count": 11,
     "metadata": {},
     "output_type": "execute_result"
    }
   ],
   "source": [
    "# Here we have a resume of some features of high revenues movies\n",
    "\n",
    "high_revenues.describe()"
   ]
  },
  {
   "cell_type": "markdown",
   "id": "54b18ed7",
   "metadata": {},
   "source": [
    "### 2 - How much the production of a high revenue movie cost in 2015?"
   ]
  },
  {
   "cell_type": "code",
   "execution_count": 12,
   "id": "432bd2b3",
   "metadata": {
    "scrolled": true
   },
   "outputs": [
    {
     "data": {
      "text/plain": [
       "(102, 17)"
      ]
     },
     "execution_count": 12,
     "metadata": {},
     "output_type": "execute_result"
    }
   ],
   "source": [
    "# Here we create a dataframe of high revenues movies released in 2015\n",
    "\n",
    "df15= high_revenues[high_revenues[\"release_year\"]==2015]\n",
    "df15.shape"
   ]
  },
  {
   "cell_type": "code",
   "execution_count": 13,
   "id": "e864c5e5",
   "metadata": {},
   "outputs": [
    {
     "data": {
      "image/png": "[encoded data removed]",
      "text/plain": [
       "<Figure size 432x288 with 1 Axes>"
      ]
     },
     "metadata": {
      "needs_background": "light"
     },
     "output_type": "display_data"
    }
   ],
   "source": [
    "# Here we visualize the mean budget of high movies in 2015 by genres\n",
    "\n",
    "df15.groupby(\"genres\").mean().sort_values(by=\"budget\", ascending=False).head(10)[\"budget\"].plot(kind=\"bar\");\n",
    "plt.title(\"Budgets trend by Genres in 2015\")\n",
    "plt.xlabel(\"Genres\")\n",
    "plt.ylabel(\"Values in Millions dollars\")\n",
    "plt.show()"
   ]
  },
  {
   "cell_type": "code",
   "execution_count": 14,
   "id": "07944710",
   "metadata": {},
   "outputs": [
    {
     "data": {
      "text/plain": [
       "count    1.020000e+02\n",
       "mean     6.130490e+07\n",
       "std      6.006325e+07\n",
       "min      0.000000e+00\n",
       "25%      1.575000e+07\n",
       "50%      3.500000e+07\n",
       "75%      8.950000e+07\n",
       "max      2.800000e+08\n",
       "Name: budget, dtype: float64"
      ]
     },
     "execution_count": 14,
     "metadata": {},
     "output_type": "execute_result"
    }
   ],
   "source": [
    "# Here we have some statistics of 2015 high revenues movies\n",
    "\n",
    "df15.describe()[\"budget\"]"
   ]
  },
  {
   "cell_type": "markdown",
   "id": "b54c98a8",
   "metadata": {},
   "source": [
    "#### 3 - What are the 10 most profitable movies of all times?"
   ]
  },
  {
   "cell_type": "code",
   "execution_count": 15,
   "id": "afadb81d",
   "metadata": {},
   "outputs": [],
   "source": [
    "# Here we define a new dataframe for all time movies that made higher benefices\n",
    "\n",
    "profitable_movies = df1.query('profit >= profit.mean()').sort_values(by='profit', ascending=False)"
   ]
  },
  {
   "cell_type": "code",
   "execution_count": 16,
   "id": "99cd6c50",
   "metadata": {
    "scrolled": true
   },
   "outputs": [
    {
     "data": {
      "text/html": [
       "<div>\n",
       "<style scoped>\n",
       "    .dataframe tbody tr th:only-of-type {\n",
       "        vertical-align: middle;\n",
       "    }\n",
       "\n",
       "    .dataframe tbody tr th {\n",
       "        vertical-align: top;\n",
       "    }\n",
       "\n",
       "    .dataframe thead th {\n",
       "        text-align: right;\n",
       "    }\n",
       "</style>\n",
       "<table border=\"1\" class=\"dataframe\">\n",
       "  <thead>\n",
       "    <tr style=\"text-align: right;\">\n",
       "      <th></th>\n",
       "      <th>original_title</th>\n",
       "      <th>release_year</th>\n",
       "    </tr>\n",
       "  </thead>\n",
       "  <tbody>\n",
       "    <tr>\n",
       "      <th>1386</th>\n",
       "      <td>Avatar</td>\n",
       "      <td>2009</td>\n",
       "    </tr>\n",
       "    <tr>\n",
       "      <th>3</th>\n",
       "      <td>Star Wars: The Force Awakens</td>\n",
       "      <td>2015</td>\n",
       "    </tr>\n",
       "    <tr>\n",
       "      <th>5231</th>\n",
       "      <td>Titanic</td>\n",
       "      <td>1997</td>\n",
       "    </tr>\n",
       "    <tr>\n",
       "      <th>0</th>\n",
       "      <td>Jurassic World</td>\n",
       "      <td>2015</td>\n",
       "    </tr>\n",
       "    <tr>\n",
       "      <th>4</th>\n",
       "      <td>Furious 7</td>\n",
       "      <td>2015</td>\n",
       "    </tr>\n",
       "    <tr>\n",
       "      <th>4361</th>\n",
       "      <td>The Avengers</td>\n",
       "      <td>2012</td>\n",
       "    </tr>\n",
       "    <tr>\n",
       "      <th>3374</th>\n",
       "      <td>Harry Potter and the Deathly Hallows: Part 2</td>\n",
       "      <td>2011</td>\n",
       "    </tr>\n",
       "    <tr>\n",
       "      <th>14</th>\n",
       "      <td>Avengers: Age of Ultron</td>\n",
       "      <td>2015</td>\n",
       "    </tr>\n",
       "    <tr>\n",
       "      <th>5422</th>\n",
       "      <td>Frozen</td>\n",
       "      <td>2013</td>\n",
       "    </tr>\n",
       "    <tr>\n",
       "      <th>8094</th>\n",
       "      <td>The Net</td>\n",
       "      <td>1995</td>\n",
       "    </tr>\n",
       "  </tbody>\n",
       "</table>\n",
       "</div>"
      ],
      "text/plain": [
       "                                    original_title  release_year\n",
       "1386                                        Avatar          2009\n",
       "3                     Star Wars: The Force Awakens          2015\n",
       "5231                                       Titanic          1997\n",
       "0                                   Jurassic World          2015\n",
       "4                                        Furious 7          2015\n",
       "4361                                  The Avengers          2012\n",
       "3374  Harry Potter and the Deathly Hallows: Part 2          2011\n",
       "14                         Avengers: Age of Ultron          2015\n",
       "5422                                        Frozen          2013\n",
       "8094                                       The Net          1995"
      ]
     },
     "execution_count": 16,
     "metadata": {},
     "output_type": "execute_result"
    }
   ],
   "source": [
    "# Here we have the list of top ten all time movies that made higher benefices\n",
    "\n",
    "profitable_movies.head(10)[[\"original_title\",\"release_year\"]]"
   ]
  },
  {
   "cell_type": "code",
   "execution_count": 17,
   "id": "9b6d7bb3",
   "metadata": {},
   "outputs": [
    {
     "data": {
      "image/png": "[encoded data removed]",
      "text/plain": [
       "<Figure size 432x288 with 1 Axes>"
      ]
     },
     "metadata": {
      "needs_background": "light"
     },
     "output_type": "display_data"
    }
   ],
   "source": [
    "# Here we visualize the repartition profit regarding the budget of each movie\n",
    "\n",
    "profitable_movies.plot(x=\"budget\", y=\"profit\", kind=\"scatter\", title=\"Profits repartition based on Budgets\");"
   ]
  },
  {
   "cell_type": "code",
   "execution_count": 18,
   "id": "5c41de94",
   "metadata": {},
   "outputs": [
    {
     "data": {
      "image/png": "[encoded data removed]",
      "text/plain": [
       "<Figure size 432x288 with 1 Axes>"
      ]
     },
     "metadata": {
      "needs_background": "light"
     },
     "output_type": "display_data"
    }
   ],
   "source": [
    "# Here we see mean values of budget, revenue and profit for the most profitable movies\n",
    "\n",
    "profitable_movies[[\"budget\",\"revenue\",\"profit\"]].mean().plot(x=\"budget\", y=\"revenue\",kind=\"bar\", title=\"Mean Values\");\n",
    "plt.xlabel(\"Features\")\n",
    "plt.ylabel(\"Values\")\n",
    "plt.show()"
   ]
  },
  {
   "cell_type": "markdown",
   "id": "d4d9c7c7",
   "metadata": {},
   "source": [
    "<a id='conclusions'></a>\n",
    "\n",
    "## <u> Conclusions</u>\n",
    "\n",
    "### Our Findings are :\n",
    "\n",
    "#### <u>Question 1 :</u>\n",
    "\n",
    "##### the movies with high revenues: \n",
    "<ul> \n",
    "    <li> have higher budgets</li>\n",
    "    <li> are not necessary the most popular</li>\n",
    "    <li> run in meantime 112 minutes</li>\n",
    "    <li> generate in average 131751100 dollars of profits</li> \n",
    "</ul>  \n",
    "\n",
    "#### <u>Question 2 :</u>\n",
    "\n",
    "##### In 2015: \n",
    "<ul>\n",
    "    <li> the average cost of a high revenue movie was 61304900 dollars </li>\n",
    "    <li> the most budgetize genre was : <b>'Action|Adventure|Crime '</b> </li>\n",
    "</ul>\n",
    "\n",
    "#### <u>Question 3 :</u>\n",
    "\n",
    "##### The top ten (10) of most profitable movies all time is:\n",
    "<ol>\n",
    "    <li>Avatar  (2009)</li>\n",
    "    <li>Star Wars: The Force Awakens  (2015)</li>\n",
    "    <li>Titanic  (1997)</li>\n",
    "    <li>Jurassic World  (2015)</li>\n",
    "    <li>Furious 7  (2015)</li>\n",
    "    <li>The Avengers  (2012)</li>\n",
    "    <li>Harry Potter and the Deathly Hallows: Part 2  (2011)</li>\n",
    "    <li>Avengers: Age of Ultron   (2015)</li>\n",
    "    <li>Frozen   (2013)</li>\n",
    "    <li>The Net  (1995)</li>\n",
    "</ol>\n",
    "\n",
    "### <u>Limitations</u>\n",
    "###### Eventhough i have focused my work on numerical features, the fact that there so much missing values in some strings columns could limit us in further and more wide Analysis. It would be better to find a way to deal more efficiently with those missing values to help future analysis to be more accurates. Even more, in my work i supposed that the currency used was the ''dollar\" but since the actual currency wasn't specified anywhere, it could refere to anything. So to enhance the accuracy of future analysis the unit used for each numerical column must be specified\n"
   ]
  },
  {
   "cell_type": "markdown",
   "id": "96b80565",
   "metadata": {},
   "source": [
    "###     Thanks for your Time. Merry Chrismas and Happy New Year"
   ]
  }
 ],
 "metadata": {
  "kernelspec": {
   "display_name": "Python 3",
   "language": "python",
   "name": "python3"
  },
  "language_info": {
   "codemirror_mode": {
    "name": "ipython",
    "version": 3
   },
   "file_extension": ".py",
   "mimetype": "text/x-python",
   "name": "python",
   "nbconvert_exporter": "python",
   "pygments_lexer": "ipython3",
   "version": "3.6.13"
  }
 },
 "nbformat": 4,
 "nbformat_minor": 5
}
